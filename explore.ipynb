{
 "cells": [
  {
   "cell_type": "code",
   "execution_count": null,
   "id": "b42a0375",
   "metadata": {},
   "outputs": [],
   "source": []
  },
  {
   "cell_type": "code",
   "execution_count": 5,
   "id": "9edf7301",
   "metadata": {},
   "outputs": [
    {
     "name": "stdout",
     "output_type": "stream",
     "text": [
      "233\n",
      "233\n",
      "233\n"
     ]
    }
   ],
   "source": [
    "from pathlib import Path\n",
    "\n",
    "p = Path(\"DataProcessing\") / \"output\" / \"temp\" / \"csv\"\n",
    "\n",
    "count = sum(1 for x in p.iterdir() if x.is_file())\n",
    "print(count)\n",
    "\n",
    "# recursive\n",
    "count_recursive = sum(1 for x in p.rglob(\"*\") if x.is_file())\n",
    "print(count_recursive)\n",
    "\n",
    "# by extension (recursive)\n",
    "ext = \".csv\"\n",
    "count_csv = sum(1 for x in p.rglob(f\"*{ext}\") if x.is_file())\n",
    "print(count_csv)"
   ]
  },
  {
   "cell_type": "code",
   "execution_count": 7,
   "id": "337c8c35",
   "metadata": {},
   "outputs": [
    {
     "name": "stdout",
     "output_type": "stream",
     "text": [
      "shape: (5, 6)\n",
      "┌─────────────────┬───────────┬────────┬──────────────────┬────────────────────────────────┬───────┐\n",
      "│ SETTLEMENT DATE ┆ CUSIP     ┆ SYMBOL ┆ QUANTITY (FAILS) ┆ DESCRIPTION                    ┆ PRICE │\n",
      "│ ---             ┆ ---       ┆ ---    ┆ ---              ┆ ---                            ┆ ---   │\n",
      "│ str             ┆ str       ┆ str    ┆ str              ┆ str                            ┆ str   │\n",
      "╞═════════════════╪═══════════╪════════╪══════════════════╪════════════════════════════════╪═══════╡\n",
      "│ SETTLEMENT DATE ┆ CUSIP     ┆ SYMBOL ┆ QUANTITY (FAILS) ┆ DESCRIPTION                    ┆ PRICE │\n",
      "│ 20130501        ┆ D1668R123 ┆ DDAIF  ┆ 5615             ┆ DAIMLER AG                     ┆ 55.09 │\n",
      "│ 20130501        ┆ D18190898 ┆ DB     ┆ 9977             ┆ DEUTSCHE BANK AG NAMEN AKT (DE ┆ 46.05 │\n",
      "│ 20130501        ┆ G01767105 ┆ ALKS   ┆ 91               ┆ ALKERMES PLC ORDINARY SHS (IRE ┆ 30.61 │\n",
      "│ 20130501        ┆ G0229R108 ┆ ALTE   ┆ 127381           ┆ ALTERRA CAPITAL HLDGS LTD COM  ┆ 32.55 │\n",
      "└─────────────────┴───────────┴────────┴──────────────────┴────────────────────────────────┴───────┘\n"
     ]
    }
   ],
   "source": [
    "from pathlib import Path    \n",
    "import polars as pl\n",
    "\n",
    "MASTER = Path(\"DataProcessing/output/src/master.csv\")\n",
    "\n",
    "mast = pl.read_csv(MASTER)\n",
    "\n",
    "print(mast.head())"
   ]
  }
 ],
 "metadata": {
  "kernelspec": {
   "display_name": "Python 3",
   "language": "python",
   "name": "python3"
  },
  "language_info": {
   "codemirror_mode": {
    "name": "ipython",
    "version": 3
   },
   "file_extension": ".py",
   "mimetype": "text/x-python",
   "name": "python",
   "nbconvert_exporter": "python",
   "pygments_lexer": "ipython3",
   "version": "3.11.0"
  }
 },
 "nbformat": 4,
 "nbformat_minor": 5
}
